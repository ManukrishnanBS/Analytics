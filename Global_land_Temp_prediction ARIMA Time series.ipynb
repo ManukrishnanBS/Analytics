{
 "cells": [
  {
   "cell_type": "markdown",
   "metadata": {},
   "source": [
    "# Predicting global land temperature using ARIMA time series\n",
    "\n",
    "ARIMA model is a forecasting model which can predict future data based on the past data. \n",
    "ARIMA consists of 3 parts - Auto Regressor, Integration & Moving Average. The model considers these three factors to come up with a prediction."
   ]
  },
  {
   "cell_type": "code",
   "execution_count": 2,
   "metadata": {},
   "outputs": [],
   "source": [
    "#Importing all the required libraries.\n",
    "import pandas as pd\n",
    "import numpy as np\n",
    "import matplotlib.pyplot as plt\n",
    "from statsmodels.tsa.ar_model import AutoReg\n",
    "%matplotlib inline"
   ]
  },
  {
   "cell_type": "code",
   "execution_count": 3,
   "metadata": {
    "scrolled": true
   },
   "outputs": [
    {
     "data": {
      "text/html": [
       "<div>\n",
       "<style scoped>\n",
       "    .dataframe tbody tr th:only-of-type {\n",
       "        vertical-align: middle;\n",
       "    }\n",
       "\n",
       "    .dataframe tbody tr th {\n",
       "        vertical-align: top;\n",
       "    }\n",
       "\n",
       "    .dataframe thead th {\n",
       "        text-align: right;\n",
       "    }\n",
       "</style>\n",
       "<table border=\"1\" class=\"dataframe\">\n",
       "  <thead>\n",
       "    <tr style=\"text-align: right;\">\n",
       "      <th></th>\n",
       "      <th>AverageTemperature</th>\n",
       "      <th>AverageTemperatureUncertainty</th>\n",
       "      <th>City</th>\n",
       "      <th>Country</th>\n",
       "      <th>Latitude</th>\n",
       "      <th>Longitude</th>\n",
       "    </tr>\n",
       "    <tr>\n",
       "      <th>dt</th>\n",
       "      <th></th>\n",
       "      <th></th>\n",
       "      <th></th>\n",
       "      <th></th>\n",
       "      <th></th>\n",
       "      <th></th>\n",
       "    </tr>\n",
       "  </thead>\n",
       "  <tbody>\n",
       "    <tr>\n",
       "      <td>1849-01-01</td>\n",
       "      <td>26.704</td>\n",
       "      <td>1.435</td>\n",
       "      <td>Abidjan</td>\n",
       "      <td>Côte D'Ivoire</td>\n",
       "      <td>5.63N</td>\n",
       "      <td>3.23W</td>\n",
       "    </tr>\n",
       "    <tr>\n",
       "      <td>1849-02-01</td>\n",
       "      <td>27.434</td>\n",
       "      <td>1.362</td>\n",
       "      <td>Abidjan</td>\n",
       "      <td>Côte D'Ivoire</td>\n",
       "      <td>5.63N</td>\n",
       "      <td>3.23W</td>\n",
       "    </tr>\n",
       "    <tr>\n",
       "      <td>1849-03-01</td>\n",
       "      <td>28.101</td>\n",
       "      <td>1.612</td>\n",
       "      <td>Abidjan</td>\n",
       "      <td>Côte D'Ivoire</td>\n",
       "      <td>5.63N</td>\n",
       "      <td>3.23W</td>\n",
       "    </tr>\n",
       "    <tr>\n",
       "      <td>1849-04-01</td>\n",
       "      <td>26.140</td>\n",
       "      <td>1.387</td>\n",
       "      <td>Abidjan</td>\n",
       "      <td>Côte D'Ivoire</td>\n",
       "      <td>5.63N</td>\n",
       "      <td>3.23W</td>\n",
       "    </tr>\n",
       "    <tr>\n",
       "      <td>1849-05-01</td>\n",
       "      <td>25.427</td>\n",
       "      <td>1.200</td>\n",
       "      <td>Abidjan</td>\n",
       "      <td>Côte D'Ivoire</td>\n",
       "      <td>5.63N</td>\n",
       "      <td>3.23W</td>\n",
       "    </tr>\n",
       "  </tbody>\n",
       "</table>\n",
       "</div>"
      ],
      "text/plain": [
       "            AverageTemperature  AverageTemperatureUncertainty     City  \\\n",
       "dt                                                                       \n",
       "1849-01-01              26.704                          1.435  Abidjan   \n",
       "1849-02-01              27.434                          1.362  Abidjan   \n",
       "1849-03-01              28.101                          1.612  Abidjan   \n",
       "1849-04-01              26.140                          1.387  Abidjan   \n",
       "1849-05-01              25.427                          1.200  Abidjan   \n",
       "\n",
       "                  Country Latitude Longitude  \n",
       "dt                                            \n",
       "1849-01-01  Côte D'Ivoire    5.63N     3.23W  \n",
       "1849-02-01  Côte D'Ivoire    5.63N     3.23W  \n",
       "1849-03-01  Côte D'Ivoire    5.63N     3.23W  \n",
       "1849-04-01  Côte D'Ivoire    5.63N     3.23W  \n",
       "1849-05-01  Côte D'Ivoire    5.63N     3.23W  "
      ]
     },
     "execution_count": 3,
     "metadata": {},
     "output_type": "execute_result"
    }
   ],
   "source": [
    "#The dataset was downloaded from https://data.world/data-society/global-climate-change-data\n",
    "#Reading the dataset into a dataframe while assigning the dt column as the index and letting pandas know that the column contains\n",
    "#dates by using 'parse_dates=True'.\n",
    "df = pd.read_csv('C:/Users/manre/Datasets/TemperaturesByMajorCity.csv',index_col=0,parse_dates=True)\n",
    "df.head()"
   ]
  },
  {
   "cell_type": "code",
   "execution_count": 4,
   "metadata": {
    "scrolled": true
   },
   "outputs": [
    {
     "data": {
      "text/plain": [
       "Int64Index([1849, 1849, 1849, 1849, 1849, 1849, 1849, 1849, 1849, 1849,\n",
       "            ...\n",
       "            2012, 2013, 2013, 2013, 2013, 2013, 2013, 2013, 2013, 2013],\n",
       "           dtype='int64', name='dt', length=239177)"
      ]
     },
     "execution_count": 4,
     "metadata": {},
     "output_type": "execute_result"
    }
   ],
   "source": [
    "df.index[0:].year"
   ]
  },
  {
   "cell_type": "code",
   "execution_count": 5,
   "metadata": {
    "scrolled": true
   },
   "outputs": [
    {
     "data": {
      "text/plain": [
       "AverageTemperature               0\n",
       "AverageTemperatureUncertainty    0\n",
       "City                             0\n",
       "Country                          0\n",
       "Latitude                         0\n",
       "Longitude                        0\n",
       "dtype: int64"
      ]
     },
     "execution_count": 5,
     "metadata": {},
     "output_type": "execute_result"
    }
   ],
   "source": [
    "#Dropping the null values since null values can't be fed into a machine learning model.\n",
    "df.dropna(inplace=True)\n",
    "df.isnull().sum()"
   ]
  },
  {
   "cell_type": "code",
   "execution_count": 6,
   "metadata": {},
   "outputs": [
    {
     "data": {
      "text/plain": [
       "dt\n",
       "1743     4.020077\n",
       "1744    10.344192\n",
       "1745     0.384885\n",
       "1750     9.145748\n",
       "1751     9.441240\n",
       "          ...    \n",
       "2009    19.833752\n",
       "2010    19.911734\n",
       "2011    19.549197\n",
       "2012    19.668239\n",
       "2013    20.263006\n",
       "Name: AverageTemperature, Length: 267, dtype: float64"
      ]
     },
     "execution_count": 6,
     "metadata": {},
     "output_type": "execute_result"
    }
   ],
   "source": [
    "#Grouping the temperature yearly to obtain the average global land temperature.\n",
    "df.groupby(df.index[0:].year)['AverageTemperature'].mean()"
   ]
  },
  {
   "cell_type": "code",
   "execution_count": 7,
   "metadata": {},
   "outputs": [],
   "source": [
    "#Moving the above grouped values to a new dataframe.\n",
    "dftemp = pd.DataFrame(df.groupby(df.index[0:].year)['AverageTemperature'].mean())"
   ]
  },
  {
   "cell_type": "code",
   "execution_count": 8,
   "metadata": {},
   "outputs": [
    {
     "data": {
      "text/plain": [
       "<matplotlib.axes._subplots.AxesSubplot at 0x20b2d2b86c8>"
      ]
     },
     "execution_count": 8,
     "metadata": {},
     "output_type": "execute_result"
    },
    {
     "data": {
      "image/png": "[encoded data removed]",
      "text/plain": [
       "<Figure size 432x288 with 1 Axes>"
      ]
     },
     "metadata": {
      "needs_background": "light"
     },
     "output_type": "display_data"
    }
   ],
   "source": [
    "dftemp.plot()"
   ]
  },
  {
   "cell_type": "code",
   "execution_count": 9,
   "metadata": {
    "scrolled": false
   },
   "outputs": [
    {
     "name": "stdout",
     "output_type": "stream",
     "text": [
      "1. ADF : -2.574113136162448\n",
      "2. P-value : 0.09846645232231599\n",
      "3. Number of lags : 12\n",
      "4. No. of observations used for ADF regression and critical values calculation : 254\n",
      "5. Critical values : {'1%': -3.456360306409983, '5%': -2.8729872043802356, '10%': -2.572870232500465}\n",
      "\t 1% : -3.456360306409983\n",
      "\t 5% : -2.8729872043802356\n",
      "\t 10% : -2.572870232500465\n"
     ]
    }
   ],
   "source": [
    "from statsmodels.tsa.stattools import adfuller\n",
    "dftest1 = adfuller(dftemp['AverageTemperature'], autolag = 'AIC')\n",
    "print(\"1. ADF :\", dftest1[0])\n",
    "print(\"2. P-value :\", dftest1[1])\n",
    "print(\"3. Number of lags :\", dftest1[2])\n",
    "print(\"4. No. of observations used for ADF regression and critical values calculation :\", dftest1[3])\n",
    "print(\"5. Critical values :\", dftest1[4])\n",
    "for key, val in dftest1[4].items():\n",
    "    print(\"\\t\",key, \":\", val)"
   ]
  },
  {
   "cell_type": "markdown",
   "metadata": {},
   "source": [
    "The data has to be stationary inorder to implement time series prediction. From the above plot we might have a doubt about the stationarity of the data since the graph is moving upwards. Inorder to confirm this, we can run a statistical test which is the adfuller test. \n",
    "In the statistical test, following are the hypothesis,\n",
    "                            Ho (null hypothesis) : The data is non-stationary\n",
    "                            Ha (alternate hypothesis) : The data is stationary\n",
    "The P-value above is 0.09 which is greater than 0.05. Therefore we cannot reject the null hypothesis & will have to understand that the data is non-stationary.\n",
    "The ARIMA model that we are going to use below has the 'Integrated' part which is about differencing the data. Differencing is carried out to bring stationarity into the data."
   ]
  },
  {
   "cell_type": "code",
   "execution_count": 10,
   "metadata": {},
   "outputs": [],
   "source": [
    "from pmdarima import auto_arima"
   ]
  },
  {
   "cell_type": "code",
   "execution_count": 11,
   "metadata": {
    "scrolled": true
   },
   "outputs": [
    {
     "name": "stdout",
     "output_type": "stream",
     "text": [
      "Performing stepwise search to minimize aic\n",
      " ARIMA(2,1,2)(0,0,0)[0] intercept   : AIC=837.995, Time=0.26 sec\n",
      " ARIMA(0,1,0)(0,0,0)[0] intercept   : AIC=924.659, Time=0.01 sec\n",
      " ARIMA(1,1,0)(0,0,0)[0] intercept   : AIC=867.442, Time=0.03 sec\n",
      " ARIMA(0,1,1)(0,0,0)[0] intercept   : AIC=865.801, Time=0.05 sec\n",
      " ARIMA(0,1,0)(0,0,0)[0]             : AIC=923.191, Time=0.01 sec\n",
      " ARIMA(1,1,2)(0,0,0)[0] intercept   : AIC=860.512, Time=0.14 sec\n",
      " ARIMA(2,1,1)(0,0,0)[0] intercept   : AIC=846.442, Time=0.15 sec\n",
      " ARIMA(3,1,2)(0,0,0)[0] intercept   : AIC=839.942, Time=0.35 sec\n",
      " ARIMA(2,1,3)(0,0,0)[0] intercept   : AIC=839.750, Time=0.66 sec\n",
      " ARIMA(1,1,1)(0,0,0)[0] intercept   : AIC=863.160, Time=0.08 sec\n",
      " ARIMA(1,1,3)(0,0,0)[0] intercept   : AIC=850.061, Time=0.29 sec\n",
      " ARIMA(3,1,1)(0,0,0)[0] intercept   : AIC=840.858, Time=0.15 sec\n",
      " ARIMA(3,1,3)(0,0,0)[0] intercept   : AIC=835.934, Time=0.48 sec\n",
      " ARIMA(4,1,3)(0,0,0)[0] intercept   : AIC=833.381, Time=0.66 sec\n",
      " ARIMA(4,1,2)(0,0,0)[0] intercept   : AIC=831.813, Time=0.59 sec\n",
      " ARIMA(4,1,1)(0,0,0)[0] intercept   : AIC=829.894, Time=0.48 sec\n",
      " ARIMA(4,1,0)(0,0,0)[0] intercept   : AIC=839.587, Time=0.13 sec\n",
      " ARIMA(5,1,1)(0,0,0)[0] intercept   : AIC=831.792, Time=0.61 sec\n",
      " ARIMA(3,1,0)(0,0,0)[0] intercept   : AIC=840.029, Time=0.09 sec\n",
      " ARIMA(5,1,0)(0,0,0)[0] intercept   : AIC=836.058, Time=0.17 sec\n",
      " ARIMA(5,1,2)(0,0,0)[0] intercept   : AIC=833.044, Time=0.60 sec\n",
      " ARIMA(4,1,1)(0,0,0)[0]             : AIC=832.597, Time=0.16 sec\n",
      "\n",
      "Best model:  ARIMA(4,1,1)(0,0,0)[0] intercept\n",
      "Total fit time: 6.170 seconds\n"
     ]
    },
    {
     "data": {
      "text/html": [
       "<table class=\"simpletable\">\n",
       "<caption>SARIMAX Results</caption>\n",
       "<tr>\n",
       "  <th>Dep. Variable:</th>           <td>y</td>        <th>  No. Observations:  </th>    <td>267</td>  \n",
       "</tr>\n",
       "<tr>\n",
       "  <th>Model:</th>           <td>SARIMAX(4, 1, 1)</td> <th>  Log Likelihood     </th> <td>-407.947</td>\n",
       "</tr>\n",
       "<tr>\n",
       "  <th>Date:</th>            <td>Thu, 01 Oct 2020</td> <th>  AIC                </th>  <td>829.894</td>\n",
       "</tr>\n",
       "<tr>\n",
       "  <th>Time:</th>                <td>11:33:27</td>     <th>  BIC                </th>  <td>854.978</td>\n",
       "</tr>\n",
       "<tr>\n",
       "  <th>Sample:</th>                  <td>0</td>        <th>  HQIC               </th>  <td>839.971</td>\n",
       "</tr>\n",
       "<tr>\n",
       "  <th></th>                      <td> - 267</td>      <th>                     </th>     <td> </td>   \n",
       "</tr>\n",
       "<tr>\n",
       "  <th>Covariance Type:</th>        <td>opg</td>       <th>                     </th>     <td> </td>   \n",
       "</tr>\n",
       "</table>\n",
       "<table class=\"simpletable\">\n",
       "<tr>\n",
       "      <td></td>         <th>coef</th>     <th>std err</th>      <th>z</th>      <th>P>|z|</th>  <th>[0.025</th>    <th>0.975]</th>  \n",
       "</tr>\n",
       "<tr>\n",
       "  <th>intercept</th> <td>    0.0179</td> <td>    0.014</td> <td>    1.277</td> <td> 0.202</td> <td>   -0.010</td> <td>    0.045</td>\n",
       "</tr>\n",
       "<tr>\n",
       "  <th>ar.L1</th>     <td>    0.4012</td> <td>    0.039</td> <td>   10.191</td> <td> 0.000</td> <td>    0.324</td> <td>    0.478</td>\n",
       "</tr>\n",
       "<tr>\n",
       "  <th>ar.L2</th>     <td>    0.2325</td> <td>    0.047</td> <td>    4.917</td> <td> 0.000</td> <td>    0.140</td> <td>    0.325</td>\n",
       "</tr>\n",
       "<tr>\n",
       "  <th>ar.L3</th>     <td>    0.4154</td> <td>    0.039</td> <td>   10.582</td> <td> 0.000</td> <td>    0.338</td> <td>    0.492</td>\n",
       "</tr>\n",
       "<tr>\n",
       "  <th>ar.L4</th>     <td>   -0.4021</td> <td>    0.036</td> <td>  -11.310</td> <td> 0.000</td> <td>   -0.472</td> <td>   -0.332</td>\n",
       "</tr>\n",
       "<tr>\n",
       "  <th>ma.L1</th>     <td>   -0.8960</td> <td>    0.050</td> <td>  -17.891</td> <td> 0.000</td> <td>   -0.994</td> <td>   -0.798</td>\n",
       "</tr>\n",
       "<tr>\n",
       "  <th>sigma2</th>    <td>    1.2517</td> <td>    0.057</td> <td>   21.826</td> <td> 0.000</td> <td>    1.139</td> <td>    1.364</td>\n",
       "</tr>\n",
       "</table>\n",
       "<table class=\"simpletable\">\n",
       "<tr>\n",
       "  <th>Ljung-Box (Q):</th>          <td>43.44</td> <th>  Jarque-Bera (JB):  </th> <td>4676.30</td>\n",
       "</tr>\n",
       "<tr>\n",
       "  <th>Prob(Q):</th>                <td>0.33</td>  <th>  Prob(JB):          </th>  <td>0.00</td>  \n",
       "</tr>\n",
       "<tr>\n",
       "  <th>Heteroskedasticity (H):</th> <td>0.02</td>  <th>  Skew:              </th>  <td>0.80</td>  \n",
       "</tr>\n",
       "<tr>\n",
       "  <th>Prob(H) (two-sided):</th>    <td>0.00</td>  <th>  Kurtosis:          </th>  <td>23.48</td> \n",
       "</tr>\n",
       "</table><br/><br/>Warnings:<br/>[1] Covariance matrix calculated using the outer product of gradients (complex-step)."
      ],
      "text/plain": [
       "<class 'statsmodels.iolib.summary.Summary'>\n",
       "\"\"\"\n",
       "                               SARIMAX Results                                \n",
       "==============================================================================\n",
       "Dep. Variable:                      y   No. Observations:                  267\n",
       "Model:               SARIMAX(4, 1, 1)   Log Likelihood                -407.947\n",
       "Date:                Thu, 01 Oct 2020   AIC                            829.894\n",
       "Time:                        11:33:27   BIC                            854.978\n",
       "Sample:                             0   HQIC                           839.971\n",
       "                                - 267                                         \n",
       "Covariance Type:                  opg                                         \n",
       "==============================================================================\n",
       "                 coef    std err          z      P>|z|      [0.025      0.975]\n",
       "------------------------------------------------------------------------------\n",
       "intercept      0.0179      0.014      1.277      0.202      -0.010       0.045\n",
       "ar.L1          0.4012      0.039     10.191      0.000       0.324       0.478\n",
       "ar.L2          0.2325      0.047      4.917      0.000       0.140       0.325\n",
       "ar.L3          0.4154      0.039     10.582      0.000       0.338       0.492\n",
       "ar.L4         -0.4021      0.036    -11.310      0.000      -0.472      -0.332\n",
       "ma.L1         -0.8960      0.050    -17.891      0.000      -0.994      -0.798\n",
       "sigma2         1.2517      0.057     21.826      0.000       1.139       1.364\n",
       "===================================================================================\n",
       "Ljung-Box (Q):                       43.44   Jarque-Bera (JB):              4676.30\n",
       "Prob(Q):                              0.33   Prob(JB):                         0.00\n",
       "Heteroskedasticity (H):               0.02   Skew:                             0.80\n",
       "Prob(H) (two-sided):                  0.00   Kurtosis:                        23.48\n",
       "===================================================================================\n",
       "\n",
       "Warnings:\n",
       "[1] Covariance matrix calculated using the outer product of gradients (complex-step).\n",
       "\"\"\""
      ]
     },
     "execution_count": 11,
     "metadata": {},
     "output_type": "execute_result"
    }
   ],
   "source": [
    "stepwise_fit = auto_arima(dftemp['AverageTemperature'], trace=True, suppress_warnings=True)\n",
    "stepwise_fit.summary()"
   ]
  },
  {
   "cell_type": "markdown",
   "metadata": {},
   "source": [
    "Above, we have used auto_arima which analyses the data to come up with a best model. We got the best model to be (4,1,1), which will be passed on while creating the model.\n",
    "Below, we can see the model creation, fitting and summary."
   ]
  },
  {
   "cell_type": "code",
   "execution_count": 12,
   "metadata": {},
   "outputs": [],
   "source": [
    "from statsmodels.tsa.arima_model import ARIMA"
   ]
  },
  {
   "cell_type": "code",
   "execution_count": 13,
   "metadata": {},
   "outputs": [],
   "source": [
    "# x_train = dftemp.iloc[:-5]\n",
    "# x_test = dftemp.iloc[-5:]\n",
    "# print(x_train.shape, x_test.shape)"
   ]
  },
  {
   "cell_type": "code",
   "execution_count": 14,
   "metadata": {
    "scrolled": true
   },
   "outputs": [
    {
     "name": "stderr",
     "output_type": "stream",
     "text": [
      "C:\\Users\\manre\\Anaconda3\\lib\\site-packages\\statsmodels\\tsa\\base\\tsa_model.py:214: ValueWarning: An unsupported index was provided and will be ignored when e.g. forecasting.\n",
      "  ' ignored when e.g. forecasting.', ValueWarning)\n",
      "C:\\Users\\manre\\Anaconda3\\lib\\site-packages\\statsmodels\\tsa\\base\\tsa_model.py:214: ValueWarning: An unsupported index was provided and will be ignored when e.g. forecasting.\n",
      "  ' ignored when e.g. forecasting.', ValueWarning)\n"
     ]
    },
    {
     "data": {
      "text/html": [
       "<table class=\"simpletable\">\n",
       "<caption>ARIMA Model Results</caption>\n",
       "<tr>\n",
       "  <th>Dep. Variable:</th> <td>D.AverageTemperature</td> <th>  No. Observations:  </th>    <td>266</td>  \n",
       "</tr>\n",
       "<tr>\n",
       "  <th>Model:</th>            <td>ARIMA(4, 1, 1)</td>    <th>  Log Likelihood     </th> <td>-407.947</td>\n",
       "</tr>\n",
       "<tr>\n",
       "  <th>Method:</th>               <td>css-mle</td>       <th>  S.D. of innovations</th>   <td>1.119</td> \n",
       "</tr>\n",
       "<tr>\n",
       "  <th>Date:</th>            <td>Thu, 01 Oct 2020</td>   <th>  AIC                </th>  <td>829.894</td>\n",
       "</tr>\n",
       "<tr>\n",
       "  <th>Time:</th>                <td>11:33:27</td>       <th>  BIC                </th>  <td>854.978</td>\n",
       "</tr>\n",
       "<tr>\n",
       "  <th>Sample:</th>                  <td>1</td>          <th>  HQIC               </th>  <td>839.971</td>\n",
       "</tr>\n",
       "<tr>\n",
       "  <th></th>                         <td> </td>          <th>                     </th>     <td> </td>   \n",
       "</tr>\n",
       "</table>\n",
       "<table class=\"simpletable\">\n",
       "<tr>\n",
       "               <td></td>                 <th>coef</th>     <th>std err</th>      <th>z</th>      <th>P>|z|</th>  <th>[0.025</th>    <th>0.975]</th>  \n",
       "</tr>\n",
       "<tr>\n",
       "  <th>const</th>                      <td>    0.0508</td> <td>    0.021</td> <td>    2.438</td> <td> 0.015</td> <td>    0.010</td> <td>    0.092</td>\n",
       "</tr>\n",
       "<tr>\n",
       "  <th>ar.L1.D.AverageTemperature</th> <td>    0.4012</td> <td>    0.069</td> <td>    5.828</td> <td> 0.000</td> <td>    0.266</td> <td>    0.536</td>\n",
       "</tr>\n",
       "<tr>\n",
       "  <th>ar.L2.D.AverageTemperature</th> <td>    0.2325</td> <td>    0.070</td> <td>    3.343</td> <td> 0.001</td> <td>    0.096</td> <td>    0.369</td>\n",
       "</tr>\n",
       "<tr>\n",
       "  <th>ar.L3.D.AverageTemperature</th> <td>    0.4154</td> <td>    0.078</td> <td>    5.310</td> <td> 0.000</td> <td>    0.262</td> <td>    0.569</td>\n",
       "</tr>\n",
       "<tr>\n",
       "  <th>ar.L4.D.AverageTemperature</th> <td>   -0.4021</td> <td>    0.070</td> <td>   -5.735</td> <td> 0.000</td> <td>   -0.539</td> <td>   -0.265</td>\n",
       "</tr>\n",
       "<tr>\n",
       "  <th>ma.L1.D.AverageTemperature</th> <td>   -0.8960</td> <td>    0.044</td> <td>  -20.399</td> <td> 0.000</td> <td>   -0.982</td> <td>   -0.810</td>\n",
       "</tr>\n",
       "</table>\n",
       "<table class=\"simpletable\">\n",
       "<caption>Roots</caption>\n",
       "<tr>\n",
       "    <td></td>   <th>            Real</th>  <th>         Imaginary</th> <th>         Modulus</th>  <th>        Frequency</th>\n",
       "</tr>\n",
       "<tr>\n",
       "  <th>AR.1</th> <td>          -0.7436</td> <td>          -0.9341j</td> <td>           1.1939</td> <td>          -0.3570</td>\n",
       "</tr>\n",
       "<tr>\n",
       "  <th>AR.2</th> <td>          -0.7436</td> <td>          +0.9341j</td> <td>           1.1939</td> <td>           0.3570</td>\n",
       "</tr>\n",
       "<tr>\n",
       "  <th>AR.3</th> <td>           1.2602</td> <td>          -0.3958j</td> <td>           1.3209</td> <td>          -0.0484</td>\n",
       "</tr>\n",
       "<tr>\n",
       "  <th>AR.4</th> <td>           1.2602</td> <td>          +0.3958j</td> <td>           1.3209</td> <td>           0.0484</td>\n",
       "</tr>\n",
       "<tr>\n",
       "  <th>MA.1</th> <td>           1.1160</td> <td>          +0.0000j</td> <td>           1.1160</td> <td>           0.0000</td>\n",
       "</tr>\n",
       "</table>"
      ],
      "text/plain": [
       "<class 'statsmodels.iolib.summary.Summary'>\n",
       "\"\"\"\n",
       "                              ARIMA Model Results                               \n",
       "================================================================================\n",
       "Dep. Variable:     D.AverageTemperature   No. Observations:                  266\n",
       "Model:                   ARIMA(4, 1, 1)   Log Likelihood                -407.947\n",
       "Method:                         css-mle   S.D. of innovations              1.119\n",
       "Date:                  Thu, 01 Oct 2020   AIC                            829.894\n",
       "Time:                          11:33:27   BIC                            854.978\n",
       "Sample:                               1   HQIC                           839.971\n",
       "                                                                                \n",
       "==============================================================================================\n",
       "                                 coef    std err          z      P>|z|      [0.025      0.975]\n",
       "----------------------------------------------------------------------------------------------\n",
       "const                          0.0508      0.021      2.438      0.015       0.010       0.092\n",
       "ar.L1.D.AverageTemperature     0.4012      0.069      5.828      0.000       0.266       0.536\n",
       "ar.L2.D.AverageTemperature     0.2325      0.070      3.343      0.001       0.096       0.369\n",
       "ar.L3.D.AverageTemperature     0.4154      0.078      5.310      0.000       0.262       0.569\n",
       "ar.L4.D.AverageTemperature    -0.4021      0.070     -5.735      0.000      -0.539      -0.265\n",
       "ma.L1.D.AverageTemperature    -0.8960      0.044    -20.399      0.000      -0.982      -0.810\n",
       "                                    Roots                                    \n",
       "=============================================================================\n",
       "                  Real          Imaginary           Modulus         Frequency\n",
       "-----------------------------------------------------------------------------\n",
       "AR.1           -0.7436           -0.9341j            1.1939           -0.3570\n",
       "AR.2           -0.7436           +0.9341j            1.1939            0.3570\n",
       "AR.3            1.2602           -0.3958j            1.3209           -0.0484\n",
       "AR.4            1.2602           +0.3958j            1.3209            0.0484\n",
       "MA.1            1.1160           +0.0000j            1.1160            0.0000\n",
       "-----------------------------------------------------------------------------\n",
       "\"\"\""
      ]
     },
     "execution_count": 14,
     "metadata": {},
     "output_type": "execute_result"
    }
   ],
   "source": [
    "model = ARIMA(dftemp,order=(4,1,1))\n",
    "model = model.fit()\n",
    "model.summary()"
   ]
  },
  {
   "cell_type": "code",
   "execution_count": 15,
   "metadata": {
    "scrolled": true
   },
   "outputs": [
    {
     "name": "stdout",
     "output_type": "stream",
     "text": [
      "266    19.970445\n",
      "267    20.204515\n",
      "268    20.447534\n",
      "269    20.256703\n",
      "270    20.469447\n",
      "271    20.535191\n",
      "272    20.451972\n",
      "273    20.616905\n",
      "274    20.623421\n",
      "275    20.621304\n",
      "276    20.741873\n",
      "dtype: float64\n"
     ]
    },
    {
     "name": "stderr",
     "output_type": "stream",
     "text": [
      "C:\\Users\\manre\\Anaconda3\\lib\\site-packages\\statsmodels\\tsa\\base\\tsa_model.py:583: ValueWarning: No supported index is available. Prediction results will be given with an integer index beginning at `start`.\n",
      "  ValueWarning)\n",
      "C:\\Users\\manre\\Anaconda3\\lib\\site-packages\\statsmodels\\tsa\\base\\tsa_model.py:583: ValueWarning: No supported index is available. Prediction results will be given with an integer index beginning at `start`.\n",
      "  ValueWarning)\n"
     ]
    }
   ],
   "source": [
    "pred = model.predict(start = len(dftemp), end = len(dftemp)+10, typ = 'levels')\n",
    "# future_index = pd.date_range(start = '2014', end = '2023')\n",
    "# pred.index = future_index\n",
    "print(pred)"
   ]
  },
  {
   "cell_type": "code",
   "execution_count": 17,
   "metadata": {},
   "outputs": [
    {
     "data": {
      "text/plain": [
       "Text(0.5, 1.0, 'Average global land temperature')"
      ]
     },
     "execution_count": 17,
     "metadata": {},
     "output_type": "execute_result"
    },
    {
     "data": {
      "image/png": "[encoded data removed]",
      "text/plain": [
       "<Figure size 432x288 with 1 Axes>"
      ]
     },
     "metadata": {
      "needs_background": "light"
     },
     "output_type": "display_data"
    }
   ],
   "source": [
    "x = ['2014','2015','2016','2017','2018','2019','2020','2021','2022','2023','2024']\n",
    "plt.plot(x, pred)\n",
    "plt.xlabel('Year')\n",
    "plt.ylabel('Temp in Deg Celsius')\n",
    "plt.title('Average global land temperature')"
   ]
  },
  {
   "cell_type": "markdown",
   "metadata": {},
   "source": [
    "We predicted the future values using model.predict as shown above. The final value in the dataset is for the year 2013 and we are predicting the values for the next 11 years ie, till 2024.\n",
    "The plot showing the average global land temperature from 2014 to 2024 can be seen below. The plot shows an increasing pattern as expected due to global warming."
   ]
  }
 ],
 "metadata": {
  "kernelspec": {
   "display_name": "Python 3",
   "language": "python",
   "name": "python3"
  },
  "language_info": {
   "codemirror_mode": {
    "name": "ipython",
    "version": 3
   },
   "file_extension": ".py",
   "mimetype": "text/x-python",
   "name": "python",
   "nbconvert_exporter": "python",
   "pygments_lexer": "ipython3",
   "version": "3.7.4"
  }
 },
 "nbformat": 4,
 "nbformat_minor": 2
}

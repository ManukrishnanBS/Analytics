{
 "cells": [
  {
   "cell_type": "code",
   "execution_count": 5,
   "metadata": {},
   "outputs": [],
   "source": [
    "import cv2\n",
    "from PIL import Image\n",
    "import numpy as np\n",
    "import matplotlib.pyplot as plt\n",
    "%matplotlib inline"
   ]
  },
  {
   "cell_type": "code",
   "execution_count": 2,
   "metadata": {},
   "outputs": [],
   "source": [
    "image = cv2.imread('D:/Learning/Python/Practise work/Newspaper-extract.png') # reading the image\n",
    "gray = cv2.cvtColor(image, cv2.COLOR_BGR2GRAY) # convert2grayscale\n",
    "(thresh, binary) = cv2.threshold(gray, 150, 255, cv2.THRESH_BINARY | cv2.THRESH_OTSU) # convert2binary\n",
    "# cv2.imwrite('binary.png', binary)"
   ]
  },
  {
   "cell_type": "code",
   "execution_count": 3,
   "metadata": {},
   "outputs": [],
   "source": [
    "cv2.imshow('C:/Users/manre/binary.png', binary)\n",
    "cv2.waitKey(0)\n",
    "cv2.destroyAllWindows()"
   ]
  },
  {
   "cell_type": "code",
   "execution_count": 6,
   "metadata": {},
   "outputs": [],
   "source": [
    "img = Image.open('C:/Users/manre/binary.png')\n",
    "a = np.array(img.getdata(), np.uint8).reshape(img.size[1], img.size[0])"
   ]
  },
  {
   "cell_type": "code",
   "execution_count": 12,
   "metadata": {},
   "outputs": [
    {
     "data": {
      "text/plain": [
       "array([255, 255, 255, ..., 255, 255, 255], dtype=uint8)"
      ]
     },
     "execution_count": 12,
     "metadata": {},
     "output_type": "execute_result"
    }
   ],
   "source": [
    "np.array(img.getdata(),np.uint8)"
   ]
  },
  {
   "cell_type": "code",
   "execution_count": 21,
   "metadata": {},
   "outputs": [
    {
     "data": {
      "text/plain": [
       "(610, 449)"
      ]
     },
     "execution_count": 21,
     "metadata": {},
     "output_type": "execute_result"
    }
   ],
   "source": [
    "img.size"
   ]
  },
  {
   "cell_type": "code",
   "execution_count": 7,
   "metadata": {
    "scrolled": true
   },
   "outputs": [
    {
     "name": "stdout",
     "output_type": "stream",
     "text": [
      "[[255 255 255 ... 255 255 255]\n",
      " [255 255 255 ... 255 255 255]\n",
      " [255 255 255 ... 255 255 255]\n",
      " ...\n",
      " [255 255 255 ... 255 255 255]\n",
      " [255 255 255 ... 255 255 255]\n",
      " [255 255 255 ... 255 255 255]]\n"
     ]
    }
   ],
   "source": [
    "print(a)"
   ]
  },
  {
   "cell_type": "code",
   "execution_count": 15,
   "metadata": {},
   "outputs": [],
   "source": [
    "def iteration(image: a, value: int) -> np.ndarray:\n",
    "    \"\"\"\n",
    "    This method iterates over the provided image by converting 255's to 0's if the number of consecutive 255's are\n",
    "    less the \"value\" provided\n",
    "    \"\"\"\n",
    "\n",
    "    rows, cols = image.shape\n",
    "    for row in range(0,rows):\n",
    "        try:\n",
    "            start = image[row].tolist().index(0) # to start the conversion from the 0 pixel\n",
    "        except ValueError:\n",
    "            start = 0 # if '0' is not present in that row\n",
    "\n",
    "        count = start\n",
    "        for col in range(start, cols):\n",
    "            if image[row, col] == 0:\n",
    "                if (col-count) <= value and (col-count) > 0:\n",
    "                    image[row, count:col] = 0              \n",
    "                count = col  \n",
    "    return image "
   ]
  },
  {
   "cell_type": "code",
   "execution_count": 19,
   "metadata": {},
   "outputs": [],
   "source": [
    "def rlsa(image: a, horizontal: bool = True, vertical: bool = True, value: int = 22) -> np.ndarray:\n",
    "    \"\"\"\n",
    "    rlsa(RUN LENGTH SMOOTHING ALGORITHM) is to extract the block-of-text or the Region-of-interest(ROI) from the\n",
    "    document binary Image provided. Must pass binary image of ndarray type.\n",
    "    \"\"\"\n",
    "   \n",
    "    if isinstance(image, np.ndarray): # image must be binary of ndarray type\n",
    "        value = int(value) if value>=0 else 0 # consecutive pixel position checker value to convert 255 to 0\n",
    "        try:\n",
    "            # RUN LENGTH SMOOTHING ALGORITHM working horizontally on the image\n",
    "           \n",
    "            if horizontal:\n",
    "                image = iteration(image, value)  \n",
    "           \n",
    "            # RUN LENGTH SMOOTHING ALGORITHM working vertically on the image\n",
    "            if vertical:\n",
    "                value = 25\n",
    "                image = image.T\n",
    "                image = iteration(image, value)\n",
    "                image = image.T\n",
    "           \n",
    "        except (AttributeError, ValueError) as e:\n",
    "            image = None\n",
    "            print(\"ERROR: \", e, \"\\n\")\n",
    "            print('Image must be an numpy ndarray and must be in \"binary\". Use Opencv/PIL to convert the image to binary.\\n')\n",
    "            print(\"import cv2;\\nimage=cv2.imread('path_of_the_image');\\ngray = cv2.cvtColor(image, cv2.COLOR_BGR2GRAY);\\n\\\n",
    "                (thresh, image_binary) = cv2.threshold(gray, 150, 255, cv2.THRESH_BINARY | cv2.THRESH_OTSU)\\n\")\n",
    "            print(\"method usage --from pythonRLSA import rlsa;\\nrlsa.rlsa(image_binary, True, False, 10)\")\n",
    "    else:\n",
    "        print('Image must be an numpy ndarray and must be in binary')\n",
    "        image = None\n",
    "    return image\n"
   ]
  },
  {
   "cell_type": "code",
   "execution_count": 23,
   "metadata": {
    "scrolled": true
   },
   "outputs": [],
   "source": [
    "new_a = rlsa(a)"
   ]
  },
  {
   "cell_type": "code",
   "execution_count": 22,
   "metadata": {},
   "outputs": [],
   "source": [
    "def array2PIL(arr, size):\n",
    "    mode = 'L'\n",
    "    arr = arr.reshape(arr.shape[0],arr.shape[1])\n",
    "    if len(arr[0]) == 3:\n",
    "        arr = numpy.c_[arr, 255*numpy.ones((len(arr),1), numpy.uint8)]\n",
    "    return Image.frombuffer(mode, size, arr.tostring(), 'raw', mode, 0, 1)"
   ]
  },
  {
   "cell_type": "code",
   "execution_count": 32,
   "metadata": {},
   "outputs": [],
   "source": [
    "Processed_image = array2PIL(new_a, img.size)"
   ]
  },
  {
   "cell_type": "code",
   "execution_count": 33,
   "metadata": {},
   "outputs": [],
   "source": [
    "import pytesseract as tess\n",
    "tess.pytesseract.tesseract_cmd = r'C:\\Program Files\\Tesseract-OCR\\tesseract.exe'"
   ]
  },
  {
   "cell_type": "code",
   "execution_count": 36,
   "metadata": {},
   "outputs": [
    {
     "name": "stdout",
     "output_type": "stream",
     "text": [
      "\f",
      "\n"
     ]
    }
   ],
   "source": [
    "# final_img = Image.open(Processed_image)\n",
    "output = tess.image_to_string(Processed_image)\n",
    "\n",
    "print(output)"
   ]
  },
  {
   "cell_type": "code",
   "execution_count": null,
   "metadata": {},
   "outputs": [],
   "source": []
  },
  {
   "cell_type": "code",
   "execution_count": null,
   "metadata": {},
   "outputs": [],
   "source": []
  }
 ],
 "metadata": {
  "kernelspec": {
   "display_name": "Python 3",
   "language": "python",
   "name": "python3"
  },
  "language_info": {
   "codemirror_mode": {
    "name": "ipython",
    "version": 3
   },
   "file_extension": ".py",
   "mimetype": "text/x-python",
   "name": "python",
   "nbconvert_exporter": "python",
   "pygments_lexer": "ipython3",
   "version": "3.7.4"
  }
 },
 "nbformat": 4,
 "nbformat_minor": 2
}
